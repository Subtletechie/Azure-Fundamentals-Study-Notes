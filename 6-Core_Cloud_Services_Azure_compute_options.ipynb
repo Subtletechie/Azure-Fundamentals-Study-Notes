{
 "cells": [
  {
   "cell_type": "markdown",
   "metadata": {},
   "source": [
    " # Core Cloud Services - Azure compute options\n",
    " \n",
    "Azure compute is an on-demand computing service for running cloud-based applications. It provides computing resources like multi-core processors and supercomputers via virtual machines and containers. It also provides serverless computing to run apps without requiring infrastructure setup or configuration.\n",
    "\n",
    "There are four common techniques for performing compute in Azure:\n",
    "\n",
    "- Virtual machines\n",
    "- Containers\n",
    "- Azure App Service\n",
    "- Serverless computing\n",
    "\n",
    "#### What is Azure App Service?\n",
    "Azure App Service is a platform-as-a-service (PaaS) offering in Azure that is designed to host enterprise-grade web-oriented applications. You can meet rigorous performance, scalability, security, and compliance requirements while using a fully managed platform to perform infrastructure maintenance.\n",
    "\n",
    "#### What is Serverless Computing?\n",
    "Serverless computing is a cloud-hosted execution environment that runs your code but completely abstracts the underlying hosting environment. You create an instance of the service, and you add your code; no infrastructure configuration or maintenance is required, or even allowed.\n",
    "\n",
    "## Explore Azure Virtual Machines\n",
    "Azure Virtual Machines (VMs) let you create and use virtual machines in the cloud. They provide infrastructure as a service (IaaS) in the form of a virtualized server and can be used in many ways. Just like a physical computer, you can customize all of the software running on the VM.\n",
    "\n",
    "You can create and provision a VM in minutes when you select a pre-configured VM image. Selecting an image is one of the most important decisions you'll make when creating a VM. An image is a template used to create a VM. These templates already include an OS and often other software, like development tools or web hosting environments.\n",
    "\n",
    "### Scaling VMs in Azure\n",
    "You can run single VMs for testing, development, or minor tasks, or group VMs together to provide high availability, scalability, and redundancy. Azure has several features so that no matter what your uptime requirements are, Azure can meet them. These features include:\n",
    "\n",
    "- Availability sets\n",
    "- Virtual Machine Scale Sets\n",
    "- Azure Batch\n",
    "\n",
    "#### Availabiliy Sets\n",
    "An availability set is a logical grouping of two or more VMs that help keep your application available during planned or unplanned maintenance.\n",
    "\n",
    "A planned maintenance event is when the underlying Azure fabric that hosts VMs is updated by Microsoft. A planned maintenance event is done to patch security vulnerabilities, improve performance, and add or update features. When the VM is part of an availability set, the Azure fabric updates are sequenced so not all of the associated VMs are rebooted at the same time. VMs are put into different update domains. Update domains indicate groups of VMs and underlying physical hardware that can be rebooted at the same time.\n",
    "\n",
    "Unplanned maintenance events involve a hardware failure in the data center, such as a power outage or disk failure. VMs that are part of an availability set automatically switch to a working physical server so the VM continues to run. The group of virtual machines that share common hardware are in the same fault domain. A fault domain is essentially a rack of servers.\n",
    "\n",
    "With an availability set, you get:\n",
    "\n",
    "- Up to three fault domains that each have a server rack with dedicated power and network resources\n",
    "- Five logical update domains\n",
    "\n",
    "Your VMs are then sequentially placed across the fault and update domains. The following diagram shows an example where you have six VMs in an availability set distributed across the two fault domains and five update domains.\n",
    "\n",
    "<img src=\"Files/3-availability-sets.png\">\n",
    "\n",
    "#### What are virtual machine scale sets?\n",
    "Azure Virtual Machine Scale Sets let you create and manage a group of identical, load balanced VMs. Scale sets allow you to centrally manage, configure, and update a large number of VMs in minutes to provide highly available applications. The number of VM instances can automatically increase or decrease in response to demand or a defined schedule. With VM Scale Sets, you can build large-scale services for areas such as compute, big data, and container workloads.\n",
    "\n",
    "#### What is Azure Batch?\n",
    "Azure Batch enables large-scale job scheduling and compute management with the ability to scale to tens, hundreds, or thousands of VMs."
   ]
  },
  {
   "cell_type": "markdown",
   "metadata": {},
   "source": [
    "## Explore Containers in Azure\n",
    "Azure supports Docker containers (a standardized container model), and there are several ways to manage containers in Azure.\n",
    "\n",
    "- Azure Container Instances (ACI)\n",
    "- Azure Kubernetes Service (AKS)\n",
    "\n",
    "#### Azure Container Instances\n",
    "Azure Container Instances (ACI) offers the fastest and simplest way to run a container in Azure. You don't have to manage any virtual machines or configure any additional services. It is a PaaS offering that allows you to upload your containers and execute them directly with automatic elastic scale.\n",
    "\n",
    "#### Azure Kubernetes Service\n",
    "The task of automating, managing, and interacting with a large number of containers is known as orchestration. Azure Kubernetes Service (AKS) is a complete orchestration service for containers with distributed architectures with multiple containers."
   ]
  }
 ],
 "metadata": {
  "kernelspec": {
   "display_name": "Python 3",
   "language": "python",
   "name": "python3"
  },
  "language_info": {
   "codemirror_mode": {
    "name": "ipython",
    "version": 3
   },
   "file_extension": ".py",
   "mimetype": "text/x-python",
   "name": "python",
   "nbconvert_exporter": "python",
   "pygments_lexer": "ipython3",
   "version": "3.6.8"
  }
 },
 "nbformat": 4,
 "nbformat_minor": 2
}
