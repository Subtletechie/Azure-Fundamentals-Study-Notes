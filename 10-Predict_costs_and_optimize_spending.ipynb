
    "# Predict costs and optimize spending for Azure\n",
    "\n",
    "Cost is one of the most important aspects of the cloud and can have a massive impact on your business. Azure has several tools available to help you get a better understanding of cloud spend and some best practices that you can leverage to help you save money.\n",
    "\n",
    "In this module, you will:\n",
    "\n",
    "- Learn the different options you have to purchase Azure services\n",
    "- Estimate costs with the Azure pricing calculator\n",
    "- Predict and optimize costs with Azure Cost Management and Azure Advisor\n",
    "- Apply best practices for saving on infrastructure costs\n",
    "- Apply best practices for saving on licensing costs"
   ]
  },
  {
   "cell_type": "markdown",
   "metadata": {},
   "source": [
    "### Purchase Azure products and services\n",
    "\n",
    "There are three main customer types on which the available purchasing options for Azure products and services are contingent, including:\n",
    "\n",
    "- __Enterprise__ - Enterprise customers sign an Enterprise Agreement with Azure that commits them to spend a negotiated amount on Azure services, which they typically pay annually. Enterprise customers also have access to customized Azure pricing.\n",
    "- __Web direct__ - Direct Web customers pay general public prices for Azure resources, and their monthly billing and payments occur through the Azure website.\n",
    "- __Cloud Solution Provider__ - Cloud Solution Provider (CSP) typically are Microsoft partner companies that a customer hires to build solutions on top of Azure. Payment and billing for Azure usage occur through the customer's CSP.\n",
    "\n",
    "__Usage meters__ <br>\n",
    "When you provision an Azure resource, Azure creates one or more meter instances for that resource. The meters track the resources' usage, and generate a usage record that is used to calculate your bill.\n",
    "\n",
    "For example, a single virtual machine that you provision in Azure might have the following meters tracking its usage: Compute Hours, IP Address Hours, Data Transfer In, Data Transfer Out, Standard Managed Disk, Standard Managed Disk Operations, Standard IO-Disk, Standard IO-Block Blob Read, Standard IO-Block Blob Write, Standard IO-Block Blob Delete."
   ]
  },
  {
   "cell_type": "markdown",
   "metadata": {},
   "source": [
    "### Factors affecting costs\n",
    "\n",
    "__Location__\n",
    "Azure has datacenters all over the world. Usage costs vary between locations that offer particular Azure products, services, and resources based on popularity, demand, and local infrastructure costs. In addition, if there are meters tracking the volume of data that moves between the resources you provision, any potential savings you make from choosing the cheapest location could be offset by the additional cost of transferring data between those resources.\n",
    "\n",
    "__Azure billing zones__\n",
    "Bandwidth refers to data moving in and out of Azure datacenters. Most of the time inbound data transfers (data going into Azure datacenters) are free. For outbound data transfers (data going out of Azure datacenters), the data transfer pricing is based on Billing Zones."
   ]
  },
  {
   "cell_type": "markdown",
   "metadata": {},
   "source": [
    "### Estimate costs with the Azure pricing calculator\n",
    "\n",
    "To make estimates easy for customers to create, Microsoft developed the Azure pricing calculator. The Azure pricing calculator is a free web-based tool that allows you to input Azure services and modify properties and options of the services. It outputs the costs per service and total cost for the full estimate.\n",
    "\n",
    "The options that you can configure in the pricing calculator vary between products, but basic configuration options include: Region, Tier, Billing Options, Support Options, Programs & Offers, Azure Dev/Test Pricing.\n",
    "\n",
    "On the pricing calculator page, you'll see several tabs:\n",
    "\n",
    "- __Products__ This tab is where you'll do most of your activity. This tab has all the Azure services listed and is where you'll add or remove services to put together your estimate.\n",
    "- __Example Scenarios__ This tab has several examples of infrastructure involved in common cloud-based solutions. You can add all the components of the entire scenario to estimate the cost.\n",
    "- __Estimates__ This tab has all of your previously saved estimates.\n",
    "- __FAQ__ Just as it says, this tab has answers to some frequently asked questions."
   ]
  },
  {
   "cell_type": "markdown",
   "metadata": {},
   "source": [
    "### Predict and optimize with Cost Management and Azure Advisor\n",
    "\n",
    "We learned how to estimate your costs before you deploy services on Azure, but what if you already have resources deployed? How do you get visibility into the costs you're already accruing?\n",
    "\n",
    "__What is Azure Advisor?__ <br>\n",
    "Azure Advisor is a free service built into Azure that provides recommendations on high availability, security, performance, and cost. Advisor analyzes your deployed services and looks for ways to improve your environment across those four areas.\n",
    "\n",
    "Advisor makes cost recommendations in the following areas:\n",
    "- __Reduce costs by eliminating unprovisioned Azure ExpressRoute circuits__.This identifies ExpressRoute circuits that have been in the provider status of Not Provisioned for more than one month and recommends deleting the circuit.\n",
    "- __Buy reserved instances to save money over pay-as-you-go__: This will review your virtual machine usage over the last 30 days and determine if you could save money in the future by purchasing reserved instances.\n",
    "- __Right-size or shutdown underutilized virtual machines__: This monitors your virtual machine usage for 14 days and then identifies underutilized virtual machines.\n",
    "\n",
    "__Azure Cost Management__ <br>\n",
    "Azure Cost Management is another free, built-in Azure tool that can be used to gain greater insights into where your cloud money is going."
   ]
  },
  {
   "cell_type": "markdown",
   "metadata": {},
   "source": [
    "### Save infrastructure costs\n",
    "\n",
    "__Use reserved instances__\n",
    "If you have VM workloads that are static and predictable, particularly ones that run 24x7x365, using reserved instances is a fantastic way to potentially save up to 70-80%, depending on the VM size. Reserved instances are purchased in one-year or three-year terms, with payment required for the full term up front."
   ]
  },
  {
   "cell_type": "markdown",
   "metadata": {},
   "source": [
    "### Save on licence costs\n",
    "\n",
    "Licensing is another area that can dramatically impact your cloud spending. Let's look at some ways you can reduce your licensing costs.\n",
    "\n",
    "You can save when choosing Linux vs. Windows machines. <br>\n",
    "With __Azure Hybrid Benefits for Windows Server__ which is a special licence with reduce costs to re-use your Windows Server licences (on-prem licences) to later migrate to the cloud. <br>\n",
    "Similarly, with __Azure Hybrid Benefits for SQL Server__, when migrating your databases to the cloud. <br>\n",
    "You can as well have acces to __Dev/Test subscription__ offers, when you do not plan to use these machines into production. To acces these licences, you need special contracts with Microsoft. <br>\n",
    "Bring your own SQL Server license is a solution to provision __bring your own license__ (BYOL) images off the Azure Marketplace, giving you the ability to take advantage of these unused licenses and reduce your Azure VM cost. <br>\n",
    "Use __SQL Server Developer Edition__. It has the same features than SQL Server but for free. The only constraint is that it is for a nonproduction use. <br>\n",
    "Use __constrained instance__ sizes for database workloads. Many customers have high requirements for memory, storage, or I/O bandwidth but low CPU core counts. Based on this popular request, Microsoft has made available the most popular VM sizes (DS, ES, GS, and MS) in new sizes that constrain the vCPU count to one half or one-quarter of the original VM size, while maintaining the same memory, storage, and I/O bandwidth.\n"
   ]
  }
 ],
 "metadata": {
  "kernelspec": {
   "display_name": "Python 3",
   "language": "python",
   "name": "python3"
  },
  "language_info": {
   "codemirror_mode": {
    "name": "ipython",
    "version": 3
   },
   "file_extension": ".py",
   "mimetype": "text/x-python",
   "name": "python",
   "nbconvert_exporter": "python",
   "pygments_lexer": "ipython3",
   "version": "3.6.8"
  }
 },
 "nbformat": 4,
 "nbformat_minor": 2
}
