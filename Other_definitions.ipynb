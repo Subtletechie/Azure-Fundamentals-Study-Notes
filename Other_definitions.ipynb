{
 "cells": [
  {
   "cell_type": "markdown",
   "metadata": {},
   "source": [
    "# Other definitions"
   ]
  },
  {
   "cell_type": "markdown",
   "metadata": {},
   "source": [
    "#### Content Delivery Network\n",
    "It's a global CDN solution for delivering high-bandwidth content. With Azure CDN, you can cache static objects loaded from Azure Blob storage, a web application, or any publicly accessible web server. An example could be video streaming."
   ]
  },
  {
   "cell_type": "markdown",
   "metadata": {},
   "source": [
    "#### Azure Resource Manager\n",
    "Azure Resource Manager is the deployment and management service for Azure. It provides a management layer that enables you to create, update, and delete resources in your Azure subscription. You use management features, like access control, locks, and tags, to secure and organize your resources after deployment."
   ]
  },
  {
   "cell_type": "markdown",
   "metadata": {},
   "source": [
    "#### Event Grid\n",
    "Azure Event Grid allows you to easily build applications with event-based architectures. First, select the Azure resource you would like to subscribe to, and then give the event handler or WebHook endpoint to send the event to. Event Grid has built-in support for events coming from Azure services, like storage blobs and resource groups."
   ]
  },
  {
   "cell_type": "markdown",
   "metadata": {},
   "source": [
    "#### Azure DevTest Labs\n",
    "\n",
    "Azure DevTest Labs enables developers to efficiently self-manage virtual machines (VMs) and PaaS resources without waiting for approvals."
   ]
  },
  {
   "cell_type": "markdown",
   "metadata": {},
   "source": [
    "#### Azure Secutiry Center\n",
    "Is a monitoring service that provides threat protection across all your services in Azure and on-premises."
   ]
  },
  {
   "cell_type": "markdown",
   "metadata": {},
   "source": [
    "#### Azure Key Vault\n",
    "\n",
    "Centralize application secrets, keys and certificates\n",
    "- Store application secrets (database connection strings, etc)\n",
    "- Create and control encryption keys used to encrypt data\n",
    "- Provision, manage and deploy public and private certificates (SSL/TLS)"
   ]
  },
  {
   "cell_type": "markdown",
   "metadata": {},
   "source": [
    "#### Azure Information Protection (AIP)\n",
    "\n",
    "Cloud-based solution to classify protected documents by applying labels."
   ]
  },
  {
   "cell_type": "markdown",
   "metadata": {},
   "source": [
    "#### Azure Threat Protection (ATP)\n",
    "\n",
    "Cloud-based security solution that identifies, detects and helps you investigate advanced threats, compromised identities, and malicious insider actions directed at your organization."
   ]
  },
  {
   "cell_type": "code",
   "execution_count": null,
   "metadata": {},
   "outputs": [],
   "source": []
  }
 ],
 "metadata": {
  "kernelspec": {
   "display_name": "Python 3",
   "language": "python",
   "name": "python3"
  },
  "language_info": {
   "codemirror_mode": {
    "name": "ipython",
    "version": 3
   },
   "file_extension": ".py",
   "mimetype": "text/x-python",
   "name": "python",
   "nbconvert_exporter": "python",
   "pygments_lexer": "ipython3",
   "version": "3.6.8"
  }
 },
 "nbformat": 4,
 "nbformat_minor": 2
}
