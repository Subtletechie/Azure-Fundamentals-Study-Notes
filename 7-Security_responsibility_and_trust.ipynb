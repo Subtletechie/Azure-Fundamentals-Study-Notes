{
 "cells": [
  {
   "cell_type": "markdown",
   "metadata": {},
   "source": [
    "# Security, responsibility, and trust in Azure\n",
    "\n",
    "This notebook discusses the basic concepts for __protecting your infrastructure and data__ in Azure. <br>\n",
    "We will cover:\n",
    "- How is __security responsibility shared__ in Azure\n",
    "- How __identity management__ provides protection\n",
    "- How __encryption__ protects your __data__\n",
    "- How to __protect networks and vnets__"
   ]
  },
  {
   "cell_type": "markdown",
   "metadata": {},
   "source": [
    "### Shared responibility\n",
    "Security of the operational environment is now a concern shared by both cloud providers and customers. By shifting these responsibilities to a cloud service like Azure, organizations can reduce focus on activities that aren't core business competencies. Depending on the specific technology choices, some security protections will be built into the particular service, while addressing others will remain the customer's responsibility.\n",
    "\n",
    "With IaaS architechture, it is your responsibility to patch and secure your operating systems and software, as well as configure your network to be secure. However, you receive the security advantage of having outsourced concern over protecting the physical parts of the network (because no more onpremise parts to secure).\n",
    "\n",
    "With PaaS, Azure is taking care of the os and most foundational software like database management systems.\n",
    "\n",
    "With SaaS, you oursource almost everything.\n",
    "\n",
    "In any case, you always retain responsibility for your data, endpoints, accounts and access management.\n",
    "\n",
    "__Defense in depth__ is a strategy that employs a series of mechanisms to slow the advance of an attack aimed at acquiring unauthorized access to information. Defense in depth can be visualized as a set of concentric rings, with the data to be secured at the center. Each ring adds an additional layer of security around the data."
   ]
  },
  {
   "cell_type": "markdown",
   "metadata": {},
   "source": [
    "### Identity and access\n",
    "\n",
    "Two fundamental concepts that need to be understood when talking about identity and access control are authentication and authorization.\n",
    "- __Authentication__ is the process of establishing the identity of a person or service looking to access a resource. It establishes if they are who they say they are.\n",
    "- __Authorization__ is the process of establishing what level of access an authenticated person or service has.\n",
    "\n",
    "Azure provides services to manage both authentication and authorization through Azure Active Directory (Azure AD).\n",
    "\n",
    "#### Azure Active Directory\n",
    "Azure Active Directory is a cloud-based identity service. It has built in support for synchronizing with your existing on-premises Active Directory or can be used stand-alone. This means that all your applications, whether on-premises, in the cloud (including Office 365), or even mobile can share the same credentials.\n",
    "\n",
    "Azure AD provides services such as:\n",
    "- Authentication\n",
    "- Single-Sing-On (SSO): enables users to remember only one ID and one passwords to access multiple applications. User applications are all related to an identity, reducing the job effort when that user changes roles or leaves the organization.\n",
    "- Application management: you can manage your cloud apps using with only your credentials.\n",
    "- Business to business (B2B) identity services: manage your guest users and external partners.\n",
    "- Device Management. Manage how your cloud or on-premises devices access your corporate data."
   ]
  },
  {
   "cell_type": "markdown",
   "metadata": {},
   "source": [
    "### Encryption\n",
    "\n",
    "For most organizations, data is the most valuable and irreplaceable asset. Encryption serves as the last and strongest line of defense in a layered security strategy.\n",
    "\n",
    "__Encryption__ is the process of making data unreadable and unusable to unauthorized viewers. To use or read the encrypted data, it must be decrypted, which requires the use of a secret key. There are two top-level types of encryption: _symmetric_ and _asymmetric_. Symmetric encryption uses the same key to encrypt and decrypt the data while asymmetric encryption uses a public key and private key pair. An example of the first is desktop password as you encrypt the data with your password and decrypt it with the same password. Asymmetric encryption is used for things like transport Layer Security (TLS) (used in HTTPS) and data signing.\n",
    "\n",
    "Both symmetric and asymmetric encryption play a role in properly securing your data. Encryption is typically approached in two ways: _encryption at rest_ (stored data, such as a database, storage account) and _encryption in transit_ (for data moving actively from one direction to another)."
   ]
  }
 ],
 "metadata": {
  "kernelspec": {
   "display_name": "Python 3",
   "language": "python",
   "name": "python3"
  },
  "language_info": {
   "codemirror_mode": {
    "name": "ipython",
    "version": 3
   },
   "file_extension": ".py",
   "mimetype": "text/x-python",
   "name": "python",
   "nbconvert_exporter": "python",
   "pygments_lexer": "ipython3",
   "version": "3.6.8"
  }
 },
 "nbformat": 4,
 "nbformat_minor": 2
}
