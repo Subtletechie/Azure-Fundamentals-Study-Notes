{
 "cells": [
  {
   "cell_type": "markdown",
   "metadata": {},
   "source": [
    "# Core cloud services: Azure architecture and service guarantees\n",
    "\n",
    "You're a small business owner with a great set of web-based services that your clients love. The one difficulty you face is some clients are experiencing a network lag accessing your services from distant locations. This problem used to be expensive to solve - requiring new data centers and costly networks to connect them. The emergence of cloud computing has made the solution easy.\n",
    "\n",
    "## Datacenters and regions in Azure\n",
    "Microsoft Azure is made up of datacenters located around the globe. When you leverage a service or create a resource such as a SQL database or virtual machine, you are using physical equipment in one or more of these locations. The datacenters are organized into regions. <br>\n",
    "Azure has more global regions than any other cloud provider. This gives you the flexibility to bring applications closer to your users no matter where they are. It also provides better scalability, redundancy, and preserves data residency for your services.<br>\n",
    "Moreover, Azure has specialized regions that you might want to use when building out your applications for compliance or legal purposes.\n",
    "\n",
    "## Geographies\n",
    "Azure divides the world into geographies that are defined by geopolitical boundaries or country borders. An Azure geography is a discrete market typically containing two or more regions that preserve data residency and compliance boundaries. This division has several benefits.\n",
    "- Geographies allow customers with specific data residency and compliance needs to keep their data and applications close.\n",
    "- Geographies ensure that data residency, sovereignty, compliance, and resiliency requirements are honored within geographical boundaries.\n",
    "- Geographies are fault-tolerant to withstand complete region failure through their connection to dedicated high-capacity networking infrastructure.\n",
    "\n",
    "There are four geaographies in Azure: Americas, Europe, Asia Pacific and Middle East and Africa.\n",
    "\n",
    "## Availability zones\n",
    "You want to ensure your services and data are redundant so you can protect your information in case of failure. When you are hosting your infrastructure, this requires creating duplicate hardware environments. Azure can help make your app highly available through Availability Zones. <br>\n",
    "Availability Zones are physically separate datacenters within an Azure region. Each Availability Zone is made up of one or more datacenters equipped with independent power, cooling, and networking. It is set up to be an isolation boundary. If one zone goes down, the other continues working. Availability Zones are connected through high-speed, private fiber-optic networks.\n",
    "\n",
    "## Region Pairs\n",
    "Availability zones are created using one or more datacenters, and there are a minimum of three zones within a single region. However, it's possible that a large enough disaster could cause an outage big enough to affect even two datacenters. That's why Azure also creates region pairs. <br>\n",
    "Each Azure region is always paired with another region within the same geography (such as US, Europe, or Asia) at least 300 miles away.\n",
    "\n",
    "## Service Level Agreements for Azure\n",
    "Microsoft maintains its commitment to providing customers with high-quality products and services by adhering to comprehensive operational policies, standards, and practices. Formal documents called Service-Level Agreements (SLAs) capture the specific terms that define the performance standards that apply to Azure.\n",
    "- SLAs describe Microsoft's commitment to providing Azure customers with specific performance standards.\n",
    "- There are SLAs for individual Azure products and services.\n",
    "- SLAs also specify what happens if a service or product fails to perform to a governing SLA's specification.\n",
    "\n",
    "### SLAs for Azure products and services\n",
    "There are three key characteristics of SLAs for Azure products and services:\n",
    "\n",
    "- __Performance Targets__: An SLA defines performance targets for an Azure product or service. The performance targets that an SLA defines are specific to each Azure product and service. For example, performance targets for some Azure services are expressed as uptime guarantees or connectivity rates.\n",
    "- __Uptime and Connectivity Guarantees__: A typical SLA specifies performance-target commitments that range from 99.9 percent (\"three nines\") to 99.999 percent (\"five nines\"), for each corresponding Azure product or service. These targets can apply to such performance criteria as uptime or response times for services.\n",
    "- __Service credits__: Customers receive service credits when SLAs are not guranteed.\n",
    "\n",
    "### Composing SLAs accross services\n",
    "When combining SLAs across different service offerings, the resultant SLA is a called a Composite SLA.\n",
    "\n",
    "## Improve your app reliability\n",
    "You can use SLAs to evaluate how your Azure solutions meet business requirements and the needs of your clients and users. By creating your own SLAs, you can set performance targets to suit your specific Azure application. This approach is known as an Application SLA."
   ]
  }
 ],
 "metadata": {
  "kernelspec": {
   "display_name": "Python 3",
   "language": "python",
   "name": "python3"
  },
  "language_info": {
   "codemirror_mode": {
    "name": "ipython",
    "version": 3
   },
   "file_extension": ".py",
   "mimetype": "text/x-python",
   "name": "python",
   "nbconvert_exporter": "python",
   "pygments_lexer": "ipython3",
   "version": "3.6.8"
  }
 },
 "nbformat": 4,
 "nbformat_minor": 2
}
