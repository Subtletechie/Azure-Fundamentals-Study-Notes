{
 "cells": [
  {
   "cell_type": "markdown",
   "metadata": {},
   "source": [
    "# Core Cloud Services - Azure networking options\n",
    "Azure networking helps improve resiliency and reduce latency.\n",
    "\n",
    "In this module, you will:\n",
    "\n",
    "- Learn how __virtual networking__ helps you __isolate network__ and compute resources\n",
    "- Learn how __Azure Load Balancer__ helps __improve resiliency__, or the ability to recover when your service goes down\n",
    "- Learn how __Traffic Manager__ can __route traffic__ to different endpoints, including the endpoint with the lowest latency to the user"
   ]
  },
  {
   "cell_type": "markdown",
   "metadata": {},
   "source": [
    "### Deploy your site to Azure\n",
    "\n",
    "This basic configuration will give you a sense of how networks are configured, and how network traffic moves in and out of Azure.\n",
    "\n",
    "Larger enterprise systems are often composed of multiple inter-connected applications and services that work together. You might have a front-end web system that displays inventory and allows customers to create an order. That might talk to a variety of web services to provide the inventory data, manage user profiles, process credit cards, and request fulfillment of processed orders.\n",
    "\n",
    "There are several strategies and patterns employed by software architects and designers to make these complex systems easier to design, build, manage, and maintain. Let's look at a few of them, starting with loosely coupled architectures.\n",
    "\n",
    "__Using an N-tier architecture__\n",
    "An architectural pattern that can be used to build loosely coupled systems is N-tier.\n",
    "\n",
    "An N-tier architecture divides an application into two or more logical tiers. Architecturally, a higher tier can access services from a lower tier, but a lower tier should never access a higher tier.\n",
    "\n",
    "Tiers help separate concerns and are ideally designed to be reusable. Using a tiered architecture also simplifies maintenance. Tiers can be updated or replaced independently, and new tiers can be inserted if needed.\n",
    "\n",
    "Three-tier refers to an n-tier application that has three tiers. Your e-commerce web application follows this three-tier architecture:\n",
    "\n",
    "- The web tier provides the web interface to your users through a browser.\n",
    "- The application tier runs business logic.\n",
    "- The data tier includes databases and other storage that hold product information and customer orders.\n",
    "The following illustration shows the flow of a request from the user to the data tier. \n",
    "\n",
    "<img src=\"Files/2-three-tier.png\">\n",
    "\n",
    "The VMs in the lower tiers, the application and data tiers, each have private IP addresses because they don't communicate directly over the internet.\n",
    "\n",
    "__What's a virtual network?__\n",
    "\n",
    "A virtual network is a logically isolated network on Azure. Azure virtual networks will be familiar to you if you've set up networks on Hyper-V, VMware, or even on other public clouds. A virtual network allows Azure resources to securely communicate with each other, the internet, and on-premises networks.\n",
    "\n",
    "You define __network security groups__ to control what traffic can flow through a virtual network."
   ]
  },
  {
   "cell_type": "markdown",
   "metadata": {},
   "source": [
    "### Scale with Azure Load Balancer\n",
    "\n",
    "__Availability__ refers to how long your service is up and running without interruption. __High availability__, or highly available, refers to a service that's up and running for a long period of time.\n",
    "\n",
    "__Resiliency__ refers to a system's ability to stay operational during abnormal conditions.\n",
    "\n",
    "A __load balancer__ distributes traffic evenly among each system in a pool. A load balancer can help you achieve both high availability and resiliency. Say you start by adding additional VMs, each configured identically, to each tier. The idea is to have additional systems ready, in case one goes down, or is serving too many users at the same time.\n",
    "\n",
    "The problem here is that each VM would have its own IP address. Plus, you don't have a way to distribute traffic in case one system goes down or is busy. How do you connect your VMs so that they appear to the user as one system?\n",
    "\n",
    "The answer is to use a load balancer to distribute traffic. The load balancer becomes the entry point to the user. The user doesn't know (or need to know) which system the load balancer chooses to receive the request.\n",
    "\n",
    "The following illustration shows the role of a load balancer.\n",
    "\n",
    "<img src=\"Files/3-load-balancer.png\">\n",
    "\n",
    "__What is Azure Load Balancer?__\n",
    "\n",
    "Azure Load Balancer is a load balancer service that Microsoft provides that helps take care of the _maintenance_ for you. Load Balancer supports inbound and outbound scenarios, provides low latency and high throughput, and scales up to millions of flows for all Transmission Control Protocol (TCP) and User Datagram Protocol (UDP) applications.\n",
    "\n",
    "__Azure Application Gateway__\n",
    "\n",
    "If all your traffic is HTTP, a potentially better option is to use Azure Application Gateway. Application Gateway is a load balancer designed for web applications. It uses Azure Load Balancer at the transport level (TCP) and applies sophisticated URL-based routing rules to support several advanced scenarios."
   ]
  },
  {
   "cell_type": "markdown",
   "metadata": {},
   "source": [
    "### Reduce latency with Azure Traffic Manager\n",
    "\n",
    "Previously, you saw how Azure Load Balancer helps you achieve high availability and minimize downtime.\n",
    "\n",
    "Although your e-commerce site is more highly available, it doesn't solve the issue of latency or create resiliency across geographic regions.\n",
    "\n",
    "How can you make your site, which is located in the United States, load faster for users located in Europe or Asia?\n",
    "\n",
    "__Latency__ refers to the time it takes for data to travel over the network. Latency is typically measured in milliseconds.\n",
    "\n",
    "Compare latency to bandwidth. Bandwidth refers to the amount of data that can fit on the connection. Latency refers to the time it takes for that data to reach its destination.\n",
    "\n",
    "One way to reduce latency is to provide exact copies of your service in more than one region. An exemple:\n",
    "\n",
    "<img src=\"Files/4-global-deployment.png\">\n",
    "\n",
    "Another is __Azure Traffic Manager__. Traffic Manager uses the DNS server that's closest to the user to direct user traffic to a globally distributed endpoint. Visually we have:\n",
    "\n",
    "<img src=\"Files/4-traffic-manager.png\">\n",
    "\n",
    "As a summary, Azure Load Balancer distributes traffic within the same region to make your services more highly available and resilient. Traffic Manager works at the DNS level, and directs the client to a preferred endpoint. This endpoint can be to the region that's closest to your user."
   ]
  }
 ],
 "metadata": {
  "kernelspec": {
   "display_name": "Python 3",
   "language": "python",
   "name": "python3"
  },
  "language_info": {
   "codemirror_mode": {
    "name": "ipython",
    "version": 3
   },
   "file_extension": ".py",
   "mimetype": "text/x-python",
   "name": "python",
   "nbconvert_exporter": "python",
   "pygments_lexer": "ipython3",
   "version": "3.6.8"
  }
 },
 "nbformat": 4,
 "nbformat_minor": 2
}
