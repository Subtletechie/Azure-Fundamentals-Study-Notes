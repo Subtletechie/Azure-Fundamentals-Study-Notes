{
 "cells": [
  {
   "cell_type": "markdown",
   "metadata": {},
   "source": [
    "# Apply and monitor infrastructure standards with Azure Policy\n",
    "\n",
    "Good IT governance involves planning your initiatives and setting priorities on a strategic level to help manage and prevent issues.\n",
    "\n",
    "This modules covers:\n",
    "- Policies to control and audit resource creation\n",
    "- Learn how role-based security can fine-tune access to your resources\n",
    "- Understand Microsoft's policies and privacy guarantees\n",
    "- Learn how to monitor your resources"
   ]
  },
  {
   "cell_type": "markdown",
   "metadata": {},
   "source": [
    "### Define IT compliance with Azure Policy\n",
    "\n",
    "Planning out a consistent cloud infrastructure starts with setting up __policy__. Your policies will enforce your rules for created resources, so your infrastructure stays compliant with your corporate standards, cost requirements, and service-level agreements (SLAs) you have with your customers.\n",
    "\n",
    "__Azure Policy__ is an Azure service you use to create, assign and, manage policies. These policies enforce different rules and effects over your resources so that those resources stay compliant with your corporate standards and service level agreements. Imagine we allow anyone in our organization to create virtual machines (VMs). We want to control costs, so the administrator of our Azure tenant defines a policy that prohibits the creation of any VM with more than 4 CPUs. Once the policy is implemented, Azure Policy will stop anyone from creating a new VM outside the list of allowed stock keeping units (SKUs).\n",
    "\n",
    "Managing a few policy definitions is easy, but once you have more than a few, you will want to organize them. That's where __initiatives__ come in. \n",
    "\n",
    "Initiatives work alongside policies in Azure Policy. An initiative definition is a set or group of policy definitions to help track your compliance state for a larger goal."
   ]
  },
  {
   "cell_type": "markdown",
   "metadata": {},
   "source": [
    "### Enterprise governance management\n",
    "\n",
    "Access management occurs at the Azure subscription level. This allows an organization to configure each division of the company in a specific fashion based on their responsibilities and requirements. Planning and keeping rules consistent across subscriptions can be challenging without a little help.\n",
    "\n",
    "__Azure Management Groups__ are containers for managing access, policies, and compliance across multiple Azure subscriptions. Management groups allow you to order your Azure resources _hierarchically_ into collections, which provide a further level of classification that is above the level of subscriptions.\n",
    "\n",
    "An example of hierarchy for governance using management groups: <br>\n",
    "<img src=\"Files/4-management-groups-tree.png\" width=400>\n",
    "\n",
    "Adhering to security or compliance requirements, whether government or industry requirements, can be difficult and time-consuming. To help you with auditing, traceability, and compliance with your deployments, use __Azure Blueprint__ artifacts and tools.\n",
    "\n",
    "Azure Blueprints is a declarative way to orchestrate the deployment of various resource templates and other artifacts, such as: Role assignments, Policy assignments, Azure Resource Manager templates, Resource groups.\n",
    "\n",
    "_How it's different from Azure Policy_ \n",
    "\n",
    "A blueprint is a package or container for composing focus-specific sets of standards, patterns, and requirements related to the implementation of Azure cloud services, security, and design that can be reused to maintain consistency and compliance.\n",
    "\n",
    "A policy is a default allow and explicit deny system focused on resource properties during deployment and for already existing resources. It supports cloud governance by validating that resources within a subscription adhere to requirements and standards."
   ]
  },
  {
   "cell_type": "markdown",
   "metadata": {},
   "source": [
    "### Explore your service compliance with Compliance Manager\n",
    "\n",
    "Governing your own resources and how they are used is only part of the solution when using a cloud provider. You also have to understand how the provider manages the underlying resources you are building on.\n",
    "\n",
    "Microsoft takes this management very seriously and provides full transparency with four sources:\n",
    "\n",
    "- Microsoft Privacy Statement\n",
    "- Microsoft Trust Center\n",
    "- Service Trust Portal\n",
    "- Compliance Manager\n",
    "\n",
    "__Microsoft Privacy Statement__ explains what personal data Microsoft processes, how Microsoft processes it, and for what purposes.\n",
    "\n",
    "__Microsoft Trust Center__ is a website resource containing information and details about how Microsoft implements and supports security, privacy, compliance, and transparency in all Microsoft cloud products and services.\n",
    "\n",
    "__Service Trust Portal__ (STP) hosts the Compliance Manager service, and is the Microsoft public site for publishing audit reports and other compliance-related information relevant to Microsoft’s cloud services.\n",
    "\n",
    "__Compliance Manager__ is a workflow-based risk assessment dashboard within the Trust Portal that enables you to track, assign, and verify your organization's regulatory compliance activities related to Microsoft professional services and Microsoft cloud services such as Office 365, Dynamics 365, and Azure."
   ]
  },
  {
   "cell_type": "markdown",
   "metadata": {},
   "source": [
    "### Monitor your service health\n",
    "\n",
    "Defining policy and access provides fine-grained control over resources in your cloud IT infrastructure. Once those resources are deployed, you will want to know about any issues or performance problems they might encounter.\n",
    "\n",
    "Azure provides two primary services to monitor the health of your apps and resources.\n",
    "\n",
    "- Azure Monitor\n",
    "- Azure Service Health\n",
    "\n",
    "__Azure Monitor__ maximizes the availability and performance of your applications by delivering a comprehensive solution for collecting, analyzing, and acting on telemetry from your cloud and on-premises environments. It helps you understand how your applications are performing and proactively identifies issues affecting them and the resources they depend on.\n",
    "\n",
    "__Azure Service Health__ is a suite of experiences that provide personalized guidance and support when issues with Azure services affect you. It can notify you, help you understand the impact of issues, and keep you updated as the issue is resolved. Azure Service Health can also help you prepare for planned maintenance and changes that could affect the availability of your resources."
   ]
  }
 ],
 "metadata": {
  "kernelspec": {
   "display_name": "Python 3",
   "language": "python",
   "name": "python3"
  },
  "language_info": {
   "codemirror_mode": {
    "name": "ipython",
    "version": 3
   },
   "file_extension": ".py",
   "mimetype": "text/x-python",
   "name": "python",
   "nbconvert_exporter": "python",
   "pygments_lexer": "ipython3",
   "version": "3.6.8"
  }
 },
 "nbformat": 4,
 "nbformat_minor": 2
}
